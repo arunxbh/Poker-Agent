{
 "cells": [
  {
   "cell_type": "code",
   "execution_count": 1,
   "metadata": {},
   "outputs": [],
   "source": [
    "import sys\n",
    "sys.path.append('poker-agent')\n",
    "import numpy as np"
   ]
  },
  {
   "cell_type": "code",
   "execution_count": 2,
   "metadata": {},
   "outputs": [],
   "source": [
    "from agent import PokerAgent\n",
    "from game import PokerGame"
   ]
  },
  {
   "cell_type": "code",
   "execution_count": 3,
   "metadata": {},
   "outputs": [],
   "source": [
    "def simulate_round():\n",
    "    game = PokerGame()\n",
    "    agent = PokerAgent()\n",
    "    \n",
    "    game.start_round()\n",
    "    game.show_game_state() \n",
    "\n",
    "    decision = agent.make_decision(game)\n",
    "    print(\"Agent Decision:\", decision)"
   ]
  },
  {
   "cell_type": "code",
   "execution_count": 4,
   "metadata": {},
   "outputs": [
    {
     "name": "stdout",
     "output_type": "stream",
     "text": [
      "Community Cards: [(11, 'Spades'), (7, 'Diamonds'), (8, 'Spades'), (7, 'Clubs'), (11, 'Diamonds')]\n",
      "Player 1 Hand: [(12, 'Hearts'), (13, 'Clubs'), (6, 'Clubs'), (5, 'Clubs'), (6, 'Hearts')]\n",
      "Player 2 Hand: [(3, 'Spades'), (11, 'Hearts'), (2, 'Spades'), (10, 'Spades'), (8, 'Diamonds')]\n",
      "Player 3 Hand: [(13, 'Diamonds'), (5, 'Spades'), (7, 'Hearts'), (10, 'Clubs'), (12, 'Clubs')]\n",
      "Player 4 Hand: [(14, 'Spades'), (3, 'Diamonds'), (12, 'Diamonds'), (3, 'Clubs'), (2, 'Clubs')]\n",
      "Player 5 Hand: [(4, 'Spades'), (6, 'Spades'), (14, 'Diamonds'), (12, 'Spades'), (2, 'Hearts')]\n",
      "Agent Decision: call\n"
     ]
    }
   ],
   "source": [
    "simulate_round()"
   ]
  },
  {
   "cell_type": "code",
   "execution_count": null,
   "metadata": {},
   "outputs": [],
   "source": []
  }
 ],
 "metadata": {
  "interpreter": {
   "hash": "aee8b7b246df8f9039afb4144a1f6fd8d2ca17a180786b69acc140d282b71a49"
  },
  "kernelspec": {
   "display_name": "Python 3.8.5 64-bit",
   "language": "python",
   "name": "python3"
  },
  "language_info": {
   "codemirror_mode": {
    "name": "ipython",
    "version": 3
   },
   "file_extension": ".py",
   "mimetype": "text/x-python",
   "name": "python",
   "nbconvert_exporter": "python",
   "pygments_lexer": "ipython3",
   "version": "3.8.5"
  },
  "orig_nbformat": 4
 },
 "nbformat": 4,
 "nbformat_minor": 2
}
